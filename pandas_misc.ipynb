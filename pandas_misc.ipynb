{
 "cells": [
  {
   "cell_type": "code",
   "execution_count": 1,
   "metadata": {},
   "outputs": [],
   "source": [
    "import pandas as pd"
   ]
  },
  {
   "attachments": {},
   "cell_type": "markdown",
   "metadata": {},
   "source": [
    "Series:  1D data structure comprised of key-value pairs. Think of it as a single list.\n",
    "\n",
    "### Series Constructor and Parameters:\n",
    "pandas.Series(data, index, dtype, copy)\n",
    "       dtype : data type (int, string, etc.)\n"
   ]
  },
  {
   "cell_type": "code",
   "execution_count": 2,
   "metadata": {},
   "outputs": [
    {
     "name": "stdout",
     "output_type": "stream",
     "text": [
      "Series:\n",
      "0    10\n",
      "1    12\n",
      "2    14\n",
      "3    16\n",
      "dtype: int64\n"
     ]
    }
   ],
   "source": [
    "#\n",
    "# example:\n",
    "data = [10,12,14,16]\n",
    "s = pd.Series(data)\n",
    "print (\"Series:\")\n",
    "print (s)"
   ]
  },
  {
   "cell_type": "code",
   "execution_count": 3,
   "metadata": {},
   "outputs": [
    {
     "name": "stdout",
     "output_type": "stream",
     "text": [
      "Series with custom indexing:\n",
      "95    10\n",
      "96    12\n",
      "97    14\n",
      "98    16\n",
      "dtype: int64\n"
     ]
    }
   ],
   "source": [
    "s = pd.Series(data, index=[95,96,97,98])\n",
    "print (\"Series with custom indexing:\")\n",
    "print (s)"
   ]
  },
  {
   "cell_type": "code",
   "execution_count": 4,
   "metadata": {},
   "outputs": [
    {
     "name": "stdout",
     "output_type": "stream",
     "text": [
      "Series made from dictionary\n",
      "Brady        100\n",
      "Manning       95\n",
      "Garoppolo     24\n",
      "dtype: int64\n"
     ]
    }
   ],
   "source": [
    "qbRatings = {'Brady' : 100, 'Manning' : 95, 'Garoppolo' : 24} #dictionary\n",
    "s = pd.Series(qbRatings)\n",
    "print (\"Series made from dictionary\")\n",
    "print (s)"
   ]
  },
  {
   "attachments": {},
   "cell_type": "markdown",
   "metadata": {},
   "source": [
    "Dataframes\n",
    "\n",
    "2D data structure. Collection of two or more series with common indices. Think of it as a list of lists\n",
    "pandas.DataFrame(data, index, columns, dtype, copy)"
   ]
  },
  {
   "cell_type": "code",
   "execution_count": 5,
   "metadata": {},
   "outputs": [
    {
     "name": "stdout",
     "output_type": "stream",
     "text": [
      "             Name  Age  Danger Rating\n",
      "0    Joe Goldberg   34             95\n",
      "1  Guinevere Beck   30             12\n",
      "2    Walter White   52             90\n"
     ]
    }
   ],
   "source": [
    "contacts = [['Joe Goldberg', 34, 95], ['Guinevere Beck', 30, 12], ['Walter White', 52, 90]]\n",
    "df1 = pd.DataFrame(contacts, columns=['Name', 'Age', 'Danger Rating'])\n",
    "print(df1)"
   ]
  },
  {
   "attachments": {},
   "cell_type": "markdown",
   "metadata": {},
   "source": [
    "# Reading in data\n",
    "\n",
    "#df = pd.read_csv('tomBradyStats.csv')\n",
    "#df = pd.read_excel('expenseList2022.xlsx')"
   ]
  },
  {
   "cell_type": "code",
   "execution_count": 6,
   "metadata": {},
   "outputs": [
    {
     "name": "stdout",
     "output_type": "stream",
     "text": [
      "             Name  Age  Danger Rating\n",
      "0    Joe Goldberg   34             95\n",
      "1  Guinevere Beck   30             12\n",
      "2    Walter White   52             90\n",
      "0    Joe Goldberg   34             95\n",
      "1  Guinevere Beck   30             12\n",
      "2    Walter White   52             90\n"
     ]
    }
   ],
   "source": [
    "# Ignore Index Parameter\n",
    "# setting it to false means Pandas keeps original index values from two different input dataframes\n",
    "# If set to true, the concatenation will ignore existing indices\n",
    "\n",
    "# example\n",
    "contacts2 = [['Boss Baby', 0.5, 45], ['Thor', 829, 99]]\n",
    "df2 = pd.DataFrame(contacts, columns=['Name', 'Age', 'Danger Rating'])\n",
    "df = pd.concat ([df1, df2], ignore_index=False)\n",
    "print(df)"
   ]
  },
  {
   "attachments": {},
   "cell_type": "markdown",
   "metadata": {},
   "source": [
    "### Explore the Data:\n",
    "\n",
    "| Command               | Meaning|\n",
    "| --------              |--------|\n",
    "|`df.head(n=10)`        | print first n rows, default is 5|\n",
    "|`df.columns.tolist()`  |print list of column headers|\n",
    "|`df.info()`     |print non-null count and data type of each column|\n",
    "|`df.describe()` |print descriptive statistics (mean, median, percentiles, etc|\n",
    "|`print(df.dtypes)`     |print datatype of each column|\n",
    "|`df.shape`             | output number of rows, columns|\n",
    "\n",
    "\n",
    "### Clean Dataset\n",
    "1. If large dataset with few empty cells, can remove rows with empty cells.  \n",
    "    - `New_df = df.dropna()` → drop nan values, put them in new_df   \n",
    "    - `df.dropna(inplace = True)` → dop nan values in same dataframe\n",
    "2. Replace empty values with new value  \n",
    "    - `df.fillna(130, inplace=True)` → all empty cells in DF\n",
    "    - `df[“Calories].fillna(130, inplace=True)`  \n",
    "3. Replace empty values with mean/median/mode  \n",
    "    - `df['salary'].fillna(df['salary'].mean(), inplace=True)`  \n",
    "\n",
    "1. Replace outliers by either replacing value, or omitting row\n",
    "    - `For x in df.index:\n",
    "\t        if df.loc[x,”Duration”] > 120, set it to be 120`\n",
    "2. Delete duplicate rows\n",
    "    - `print(df.duplicated())` `drop_duplicates(inplace = True)`\n",
    "3. Convert data in specific cells to correct format.\n",
    "4. Rename columns \n",
    "    - `df.rename(columns={'old_name': 'new_name'}, inplace=True)`\n",
    "5. Replace incorrect data\n",
    "    - `df['col_name'].replace('incorrect_value', 'correct_value', inplace=True)`\n",
    "6. Check for outliers\n",
    "\n",
    "\n",
    "\n",
    "\n",
    "\n"
   ]
  },
  {
   "cell_type": "code",
   "execution_count": null,
   "metadata": {},
   "outputs": [],
   "source": []
  }
 ],
 "metadata": {
  "kernelspec": {
   "display_name": "Python 3",
   "language": "python",
   "name": "python3"
  },
  "language_info": {
   "codemirror_mode": {
    "name": "ipython",
    "version": 3
   },
   "file_extension": ".py",
   "mimetype": "text/x-python",
   "name": "python",
   "nbconvert_exporter": "python",
   "pygments_lexer": "ipython3",
   "version": "3.9.1"
  },
  "orig_nbformat": 4,
  "vscode": {
   "interpreter": {
    "hash": "7a14979e061517ff8db1e3d4e5b2588024b75be1831ccaffba4da2ed3a779201"
   }
  }
 },
 "nbformat": 4,
 "nbformat_minor": 2
}
